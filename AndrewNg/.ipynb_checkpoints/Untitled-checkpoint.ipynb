{
 "cells": [
  {
   "cell_type": "code",
   "execution_count": null,
   "id": "3f59d1cd-8169-49ca-81d2-ba94ba18c128",
   "metadata": {},
   "outputs": [],
   "source": []
  }
 ],
 "metadata": {
  "kernelspec": {
   "display_name": "",
   "name": ""
  },
  "language_info": {
   "name": ""
  }
 },
 "nbformat": 4,
 "nbformat_minor": 5
}
